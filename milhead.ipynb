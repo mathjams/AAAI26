{
  "nbformat": 4,
  "nbformat_minor": 0,
  "metadata": {
    "colab": {
      "provenance": [],
      "authorship_tag": "ABX9TyO1fMKu7b9XCYG3XGqehstJ",
      "include_colab_link": true
    },
    "kernelspec": {
      "name": "python3",
      "display_name": "Python 3"
    },
    "language_info": {
      "name": "python"
    }
  },
  "cells": [
    {
      "cell_type": "markdown",
      "metadata": {
        "id": "view-in-github",
        "colab_type": "text"
      },
      "source": [
        "<a href=\"https://colab.research.google.com/github/mathjams/AAAI26/blob/main/milhead.ipynb\" target=\"_parent\"><img src=\"https://colab.research.google.com/assets/colab-badge.svg\" alt=\"Open In Colab\"/></a>"
      ]
    },
    {
      "cell_type": "code",
      "execution_count": null,
      "metadata": {
        "id": "PkqEimtlwUxh"
      },
      "outputs": [],
      "source": [
        "import torch\n",
        "import torch.nn as nn\n",
        "import torch.nn.functional as F\n",
        "\n",
        "class MILHead2D(nn.Module):\n",
        "    \"\"\"\n",
        "    Instance scorer: attention over tokens (within an instance) + small MLP.\n",
        "    Accepts (B,T,D) or (B,C,T,D). CLS at index 0 is excluded if use_cls_token=True.\n",
        "    \"\"\"\n",
        "    def __init__(self, d_model: int = 128, use_cls_token: bool = True, dropout: float = 0.3):\n",
        "        super().__init__()\n",
        "        self.use_cls_token = use_cls_token\n",
        "        self.d_model = d_model\n",
        "\n",
        "        self.attn = nn.Linear(d_model, 1, bias=False)\n",
        "\n",
        "        self.norm = nn.LayerNorm(d_model)\n",
        "        self.mlp1 = nn.LazyLinear(64)\n",
        "        self.mlp2 = nn.Linear(64, 1)\n",
        "        self.score_bias = nn.Parameter(torch.tensor(0.0))\n",
        "        self.dropout = nn.Dropout(dropout)\n",
        "\n",
        "    def _to_BCTD(self, H: torch.Tensor) -> torch.Tensor:\n",
        "        if H.dim() == 3:  # (B,T,D) -> (B,1,T,D)\n",
        "            H = H.unsqueeze(1)\n",
        "        elif H.dim() != 4:\n",
        "            raise ValueError(f\"Expected (B,T,D) or (B,C,T,D), got {tuple(H.shape)}\")\n",
        "        return H\n",
        "\n",
        "    def forward(self, token_states: torch.Tensor) -> torch.Tensor:\n",
        "        H = self._to_BCTD(token_states)\n",
        "        B, C, T, D = H.shape\n",
        "\n",
        "        start = 1 if (self.use_cls_token and T > 1) else 0\n",
        "        H = H[:, :, start:, :]\n",
        "\n",
        "        H_ = H.reshape(B*C, T - start, D)         # (B*C, T', D)\n",
        "        a = torch.softmax(self.attn(H_), dim=1)   # (B*C, T', 1)\n",
        "        z = (H_ * a).sum(dim=1)                   # (B*C, D)\n",
        "        Z = z.view(B, C, D)                       # (B,C,D)\n",
        "\n",
        "        Z = self.norm(Z)\n",
        "        Z = self.dropout(Z)\n",
        "        Z_flat = Z.reshape(B, -1)                 # (B, C*D)\n",
        "        h = F.relu(self.mlp1(Z_flat))\n",
        "        h = self.dropout(h)\n",
        "        s = self.mlp2(h).squeeze(-1)              # (B,)\n",
        "        return s + self.score_bias\n"
      ]
    }
  ]
}